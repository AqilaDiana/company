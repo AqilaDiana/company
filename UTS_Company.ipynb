{
 "cells": [
  {
   "cell_type": "code",
   "execution_count": 1,
   "id": "55d6d9b0-a1ea-455c-8b2b-7cb705cab354",
   "metadata": {},
   "outputs": [],
   "source": [
    "company_detail_list = [\n",
    "      {\n",
    "          'name': 'Company 1',\n",
    "          'domain': 'Retail',\n",
    "          'country': 'United States'\n",
    "      },\n",
    "      {\n",
    "          'name': 'Company 2',\n",
    "          'domain': 'Technology',\n",
    "          'country': 'United Kingdom'\n",
    "      },\n",
    "      {\n",
    "          'name': 'Company 3',\n",
    "          'domain': 'Healthcare',\n",
    "          'country': 'United States'\n",
    "      }\n",
    "  ]\n",
    "\n",
    "employee_detail_list = [\n",
    "     {\n",
    "          'name': 'EMP-0001',\n",
    "          'first_name': 'John',\n",
    "          'last_name': 'Doe',\n",
    "          'full_name': 'John Doe',\n",
    "          'company': 'Company 1',\n",
    "          'nationality': 'Australia'\n",
    "      },\n",
    "      {\n",
    "          'name': 'EMP-0002',\n",
    "          'first_name': 'Tom',\n",
    "          'last_name': 'Smith',\n",
    "          'full_name': 'Tom Smith',\n",
    "          'company': 'Company 2',\n",
    "          'nationality': 'United States'\n",
    "      },\n",
    "      {\n",
    "          'name': 'EMP-0003',\n",
    "          'first_name': 'Andrew',\n",
    "          'last_name': 'Sebastian',\n",
    "          'full_name': 'Andrew Sebastian',\n",
    "          'company': 'Company 3',\n",
    "          'nationality': 'United States'\n",
    "      },\n",
    "      {\n",
    "          'name': 'EMP-0005',\n",
    "          'first_name': 'Ying Han',\n",
    "          'last_name': 'Tan',\n",
    "          'full_name': 'Ying Han Tan',\n",
    "          'company': 'Company 1',\n",
    "          'nationality': 'Australia'\n",
    "      },\n",
    "      {\n",
    "          'name': 'EMP-0015',\n",
    "          'first_name': 'Kenneth',\n",
    "          'last_name': 'Ng',\n",
    "          'full_name': 'Kenneth Ng',\n",
    "          'company': 'Company 3',\n",
    "          'nationality': 'United States'\n",
    "      },\n",
    "      {\n",
    "          'name': 'EMP-0018',\n",
    "          'first_name': 'Rubby',\n",
    "          'last_name': 'Lee',\n",
    "          'full_name': 'Rubby Lee',\n",
    "          'company': 'Company 2',\n",
    "          'nationality': 'Hong Kong'\n",
    "      },\n",
    "     {\n",
    "          'name': 'EMP-0017',\n",
    "          'first_name': 'Robert',\n",
    "          'last_name': 'White',\n",
    "          'full_name': 'Robert White',\n",
    "          'company': 'Company 1',\n",
    "          'nationality': 'United Kingdom'\n",
    "      }\n",
    "  ]"
   ]
  },
  {
   "cell_type": "code",
   "execution_count": 7,
   "id": "b83599a2-a552-4a87-9358-039cde952847",
   "metadata": {},
   "outputs": [
    {
     "name": "stdout",
     "output_type": "stream",
     "text": [
      "Name: Company 3\n",
      "Name: Company 2\n",
      "Name: Company 1\n"
     ]
    }
   ],
   "source": [
    "#Task 1\n",
    "# List of companies\n",
    "company_detail_list = [\n",
    "    {'name': 'Company 1'},\n",
    "    {'name': 'Company 2'},\n",
    "    {'name': 'Company 3'}\n",
    "]\n",
    "\n",
    "# Sorting the companies by name in reverse order\n",
    "sorted_companies = sorted(company_detail_list, key=lambda x: x['name'], reverse=True)\n",
    "\n",
    "# Displaying the sorted list\n",
    "for company in sorted_companies:\n",
    "    print(f\"Name: {company['name']}\")\n"
   ]
  },
  {
   "cell_type": "code",
   "execution_count": 13,
   "id": "902d7bd6-53d1-4eda-8ebe-32b917209504",
   "metadata": {},
   "outputs": [
    {
     "name": "stdout",
     "output_type": "stream",
     "text": [
      "Company 1: Retail (United States)\n",
      "Company 2: Technology (United Kingdom)\n",
      "Company 3: Healthcare (United States)\n"
     ]
    }
   ],
   "source": [
    "#Task 2\n",
    "# List of companies\n",
    "company_detail_list = [\n",
    "    {'name': 'Company 1', 'domain' : 'Retail', 'country' : 'United States'},\n",
    "    {'name': 'Company 2', 'domain' : 'Technology', 'country' : 'United Kingdom'},\n",
    "    {'name': 'Company 3', 'domain' : 'Healthcare', 'country' : 'United States'}\n",
    "]\n",
    "\n",
    "# Sorting the companies by name in reverse order\n",
    "sorted_companies = sorted(company_detail_list, key=lambda x: x['name'])\n",
    "\n",
    "# Displaying the sorted list\n",
    "for company in sorted_companies:\n",
    "    print(f\"{company['name']}: {company['domain']} ({company['country']})\")\n"
   ]
  },
  {
   "cell_type": "code",
   "execution_count": 21,
   "id": "b165288e-dc17-4c8c-b9f9-971dc032f535",
   "metadata": {},
   "outputs": [
    {
     "name": "stdout",
     "output_type": "stream",
     "text": [
      "Retail: John Doe, Ying Han Tan, Robert White\n",
      "Technology: Tom Smith, Rubby Lee\n",
      "Healthcare: Andrew Sebastian, Kenneth Ng\n"
     ]
    }
   ],
   "source": [
    "#Task 3\n",
    "company_domain_map = {company['name']: company['domain'] for company in company_detail_list}\n",
    "\n",
    "domain_employees = {}\n",
    "\n",
    "for employee in employee_detail_list:\n",
    "    company = employee['company']\n",
    "    domain = company_domain_map.get(company, \"Unknown\")\n",
    "    full_name = employee['full_name']\n",
    "    \n",
    "    if domain not in domain_employees:\n",
    "        domain_employees[domain] = []\n",
    "    \n",
    "    domain_employees[domain].append(full_name)\n",
    "\n",
    "for domain, employees in domain_employees.items():\n",
    "    print(f\"{domain}: {', '.join(employees)}\")\n"
   ]
  },
  {
   "cell_type": "code",
   "execution_count": 25,
   "id": "d394a309-3a31-4b44-8541-6b2c5d488797",
   "metadata": {},
   "outputs": [
    {
     "name": "stdout",
     "output_type": "stream",
     "text": [
      "[{'full_name': 'John Doe', 'company': 'Company 1', 'country': 'United States'}, {'full_name': 'Tom Smith', 'company': 'Company 2', 'country': 'United Kingdom'}, {'full_name': 'Andrew Sebastian', 'company': 'Company 3', 'country': 'United States'}, {'full_name': 'Ying Han Tan', 'company': 'Company 1', 'country': 'United States'}, {'full_name': 'Kenneth Ng', 'company': 'Company 3', 'country': 'United States'}, {'full_name': 'Rubby Lee', 'company': 'Company 2', 'country': 'United Kingdom'}, {'full_name': 'Robert White', 'company': 'Company 1', 'country': 'United States'}]\n"
     ]
    }
   ],
   "source": [
    "# Task 4\n",
    "company_country_map = {company['name']: company['country'] for company in company_detail_list}\n",
    "\n",
    "employee_info = []\n",
    "\n",
    "for employee in employee_detail_list:\n",
    "    company = employee['company']\n",
    "    country = company_country_map.get(company, \"Unknown\")\n",
    "    full_name = employee['full_name']\n",
    "    \n",
    "    employee_info.append({\n",
    "        'full_name': full_name,\n",
    "        'company': company,\n",
    "        'country': country\n",
    "    })\n",
    "\n",
    "print(employee_info)"
   ]
  },
  {
   "cell_type": "code",
   "execution_count": 27,
   "id": "75ee04c6-8a23-43da-9c2c-c83401a25f6c",
   "metadata": {},
   "outputs": [
    {
     "name": "stdout",
     "output_type": "stream",
     "text": [
      "[{'company': 'Company 1', 'employee_nationality': {'Australia': 2, 'United Kingdom': 1}}, {'company': 'Company 2', 'employee_nationality': {'United States': 1, 'Hong Kong': 1}}, {'company': 'Company 3', 'employee_nationality': {'United States': 2}}]\n"
     ]
    }
   ],
   "source": [
    "#Task 5\n",
    "from collections import defaultdict\n",
    "\n",
    "company_nationality_count = defaultdict(lambda: defaultdict(int))\n",
    "\n",
    "for employee in employee_detail_list:\n",
    "    company = employee['company']\n",
    "    nationality = employee['nationality']\n",
    "    company_nationality_count[company][nationality] += 1\n",
    "\n",
    "result = [\n",
    "    {\n",
    "        \"company\": company,\n",
    "        \"employee_nationality\": dict(nationality_counts)\n",
    "    }\n",
    "    for company, nationality_counts in company_nationality_count.items()\n",
    "]\n",
    "\n",
    "print(result)\n"
   ]
  },
  {
   "cell_type": "code",
   "execution_count": null,
   "id": "4ede81ce-ccc1-4a61-9d2e-46723c9c48fd",
   "metadata": {},
   "outputs": [],
   "source": []
  }
 ],
 "metadata": {
  "kernelspec": {
   "display_name": "Python 3 (ipykernel)",
   "language": "python",
   "name": "python3"
  },
  "language_info": {
   "codemirror_mode": {
    "name": "ipython",
    "version": 3
   },
   "file_extension": ".py",
   "mimetype": "text/x-python",
   "name": "python",
   "nbconvert_exporter": "python",
   "pygments_lexer": "ipython3",
   "version": "3.12.6"
  }
 },
 "nbformat": 4,
 "nbformat_minor": 5
}
